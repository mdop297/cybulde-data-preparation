{
 "cells": [
  {
   "cell_type": "code",
   "execution_count": 1,
   "metadata": {},
   "outputs": [
    {
     "name": "stdout",
     "output_type": "stream",
     "text": [
      "Credentials are invalid or expired, unable to refresh\n"
     ]
    }
   ],
   "source": [
    "from google.oauth2 import service_account\n",
    "from google.auth.transport.requests import Request\n",
    "\n",
    "# Path to your service account credential JSON file\n",
    "service_account_file = './creds/cybully-project-654c33614e78.json'\n",
    "(service_account_file)\n",
    "try:\n",
    "    # Load the credentials from the service account file\n",
    "    credentials = service_account.Credentials.from_service_account_file(\n",
    "        service_account_file,\n",
    "        scopes=['https://www.googleapis.com/auth/cloud-platform']  # Adjust scopes if needed\n",
    "    )\n",
    "\n",
    "    # Verify the credentials by refreshing the token\n",
    "    if credentials and credentials.valid:\n",
    "        print(\"Credentials are valid\")\n",
    "    else:\n",
    "        # Refresh the credentials if needed\n",
    "        if credentials.expired and credentials.refresh_token:\n",
    "            credentials.refresh(Request())\n",
    "            print(\"Credentials refreshed and valid\")\n",
    "        else:\n",
    "            print(\"Credentials are invalid or expired, unable to refresh\")\n",
    "\n",
    "except Exception as e:\n",
    "    print(f\"Error validating credentials: {e}\")\n"
   ]
  },
  {
   "cell_type": "code",
   "execution_count": null,
   "metadata": {},
   "outputs": [
    {
     "name": "stdout",
     "output_type": "stream",
     "text": [
      "True\n",
      "Credentials are valid\n"
     ]
    }
   ],
   "source": [
    "from google.oauth2 import service_account\n",
    "\n",
    "# Path to the service account JSON file\n",
    "service_account_file = './creds/cybully-project-654c33614e78.json'\n",
    "\n",
    "try:\n",
    "    # Load the credentials from the service account file\n",
    "    credentials = service_account.Credentials.from_service_account_file(\n",
    "        service_account_file,\n",
    "        scopes=['https://www.googleapis.com/auth/cloud-platform']\n",
    "    )\n",
    "    credentials.refresh(Request())\n",
    "    print(credentials.valid)\n",
    "    # compute_service = build('compute', 'v1', credentials=credentials)\n",
    "    # project_id = credentials.project_id\n",
    "    # request = compute_service.projects().get(project=project_id)\n",
    "    # response = request.execute()\n",
    "    # print(response)\n",
    "\n",
    "\n",
    "    if credentials.valid:\n",
    "        print(\"Credentials are valid\")\n",
    "    else:\n",
    "        print(\"Credentials are invalid\")\n",
    "\n",
    "except Exception as e:\n",
    "    print(f\"Error validating credentials: {e}\")\n"
   ]
  },
  {
   "cell_type": "code",
   "execution_count": 12,
   "metadata": {},
   "outputs": [
    {
     "data": {
      "text/plain": [
       "'cybully-project'"
      ]
     },
     "execution_count": 12,
     "metadata": {},
     "output_type": "execute_result"
    }
   ],
   "source": [
    "credentials.project_id"
   ]
  }
 ],
 "metadata": {
  "kernelspec": {
   "display_name": "base",
   "language": "python",
   "name": "python3"
  },
  "language_info": {
   "codemirror_mode": {
    "name": "ipython",
    "version": 3
   },
   "file_extension": ".py",
   "mimetype": "text/x-python",
   "name": "python",
   "nbconvert_exporter": "python",
   "pygments_lexer": "ipython3",
   "version": "3.12.7"
  }
 },
 "nbformat": 4,
 "nbformat_minor": 2
}
